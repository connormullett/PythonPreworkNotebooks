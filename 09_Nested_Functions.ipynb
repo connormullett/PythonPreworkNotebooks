{
 "cells": [
  {
   "cell_type": "markdown",
   "metadata": {},
   "source": [
    "# Nested Functions :"
   ]
  },
  {
   "cell_type": "markdown",
   "metadata": {},
   "source": [
    "Whenever we don't want to clutter up our code we can 'nest' our functions and loops.\n",
    "\n",
    "This means we can put functions INSIDE of functions AND the function has access to the variables outside of the inner function. :\n"
   ]
  },
  {
   "cell_type": "code",
   "execution_count": 1,
   "metadata": {},
   "outputs": [
    {
     "name": "stdout",
     "output_type": "stream",
     "text": [
      "['Red', 'Blue', 'Yellow']\n"
     ]
    }
   ],
   "source": [
    "def get_colors():\n",
    "    colors = ['red', 'blue', 'yellow']\n",
    "\n",
    "    def get_colors_capitalized():\n",
    "        capital_colors = []\n",
    "        for color in colors:\n",
    "            capital_colors.append(color.capitalize())\n",
    "        return capital_colors\n",
    "    colors = get_colors_capitalized()\n",
    "    print(colors)\n",
    "\n",
    "\n",
    "get_colors()"
   ]
  },
  {
   "cell_type": "markdown",
   "metadata": {},
   "source": [
    "This may look confusing but all we're doing is following the indents and making sure they align. Inside of our get_colors() method, we may need to capitalize the colors before printing them ,so we can just throw in that function inside and nest it.\n",
    "\n",
    "The BIG reason we use this is because of something called a 'closure'.\n",
    "A closure is an outside variable being referenced inside a nested function\n",
    "on line 8 we see we created a list called colors,\n",
    "and on line 12 we see that we are iterating through colors even tho we are in a different function\n",
    "but because they are nested its perfectly legal code to do it this way."
   ]
  },
  {
   "cell_type": "code",
   "execution_count": null,
   "metadata": {},
   "outputs": [],
   "source": []
  }
 ],
 "metadata": {
  "kernelspec": {
   "display_name": "Python 3",
   "language": "python",
   "name": "python3"
  },
  "language_info": {
   "codemirror_mode": {
    "name": "ipython",
    "version": 3
   },
   "file_extension": ".py",
   "mimetype": "text/x-python",
   "name": "python",
   "nbconvert_exporter": "python",
   "pygments_lexer": "ipython3",
   "version": "3.6.6"
  }
 },
 "nbformat": 4,
 "nbformat_minor": 2
}
