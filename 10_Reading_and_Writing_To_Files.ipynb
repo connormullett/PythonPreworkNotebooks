{
 "cells": [
  {
   "cell_type": "markdown",
   "metadata": {},
   "source": [
    "# Reading and Writing To Files :\n",
    "\n",
    "One cool feature in python is we can actually save and open information to/from Txt files.\n",
    "Python has built in functions to do this and we'll be going over that here let's write a couple of functions that will help us do this. :"
   ]
  },
  {
   "cell_type": "code",
   "execution_count": 1,
   "metadata": {},
   "outputs": [],
   "source": [
    "students = []\n",
    "\n",
    "\n",
    "def add_student(name, student_id=332):\n",
    "    student = {\"name\": name, \"student_id\": student_id}\n",
    "    students.append(student)\n",
    "\n",
    "\n",
    "def save_file(student):\n",
    "    try:\n",
    "        f = open(\"10_Students.txt\", \"a\")  # here's the open function. the 'a' means 'append to file'\n",
    "        # if we didn't have the 'a' it would overwrite the entire file\n",
    "        f.write(student + \"\\n\")  # the '\\n' is called an escape character, this one makes a new a line\n",
    "        f.close()  # remember to close the file so we don't hog memory\n",
    "    except Exception as e:\n",
    "        print('could not read file', e)  # in case anything happens we do this\n",
    "\n",
    "\n",
    "def read_file():\n",
    "    try:\n",
    "        f = open('10_Students.txt', 'r')  # the r means we're going to just read the file\n",
    "        for student in f.readlines():\n",
    "            add_student(student)  # 'reads the file and adds the students in the file to our python list\n",
    "        f.close()\n",
    "    except Exception as e:\n",
    "        print('could not read file', e)"
   ]
  },
  {
   "cell_type": "markdown",
   "metadata": {},
   "source": [
    "Note: Writing and using dictionaries in a file can be pretty tricky and requires importing\n",
    "another module. \n",
    "So we're just gonna create a list of names and write to that file\n",
    "we will get into modules and importing them later so don't worry. :\n",
    "\n"
   ]
  },
  {
   "cell_type": "code",
   "execution_count": 2,
   "metadata": {},
   "outputs": [
    {
     "name": "stdout",
     "output_type": "stream",
     "text": [
      "could not read file [Errno 2] No such file or directory: '10_Students.txt'\n",
      "[]\n",
      "Enter name: Test_Student\n",
      "Enter ID: 400\n"
     ]
    }
   ],
   "source": [
    "# now lets get into the code that uses the functions above\n",
    "read_file()  # first we read the file to see all of the students already there\n",
    "print(students)\n",
    "student_name = input('Enter name: ')  # now a couple of input statements to get user input\n",
    "student_id = input('Enter ID: ')"
   ]
  },
  {
   "cell_type": "code",
   "execution_count": 3,
   "metadata": {},
   "outputs": [],
   "source": [
    "# and now we call our function add_student() because we have the information from our user\n",
    "add_student(student_name, int(student_id))\n",
    "save_file(student_name)  # and save the file, every time we open this file we will have our students saved\n"
   ]
  },
  {
   "cell_type": "markdown",
   "metadata": {},
   "source": [
    "Give it a run and see what happens when you enter a student, and re run your code."
   ]
  }
 ],
 "metadata": {
  "kernelspec": {
   "display_name": "Python 3",
   "language": "python",
   "name": "python3"
  },
  "language_info": {
   "codemirror_mode": {
    "name": "ipython",
    "version": 3
   },
   "file_extension": ".py",
   "mimetype": "text/x-python",
   "name": "python",
   "nbconvert_exporter": "python",
   "pygments_lexer": "ipython3",
   "version": "3.6.6"
  }
 },
 "nbformat": 4,
 "nbformat_minor": 2
}
