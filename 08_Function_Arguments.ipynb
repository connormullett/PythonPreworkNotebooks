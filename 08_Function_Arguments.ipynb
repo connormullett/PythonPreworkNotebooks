{
 "cells": [
  {
   "cell_type": "markdown",
   "metadata": {},
   "source": [
    "# Function Arguments\n",
    "\n",
    "In this lesson we are going to go over parameters/arguments.\n",
    "We will need our functions from our last lesson so lets write them out now :"
   ]
  },
  {
   "cell_type": "code",
   "execution_count": 1,
   "metadata": {},
   "outputs": [],
   "source": [
    "students = []\n",
    "\n",
    "\n",
    "def add_student(name):\n",
    "    students.append(name)\n",
    "\n",
    "\n",
    "def get_students_titlecase():\n",
    "    students_titlecase = []\n",
    "    for student in students:\n",
    "        students_titlecase = student.title()\n",
    "    return students_titlecase\n"
   ]
  },
  {
   "cell_type": "markdown",
   "metadata": {},
   "source": [
    "But, what if we want to make an argument optional, or not required?\n",
    "It's easy! lets write a new function that will also assign an id to a student :"
   ]
  },
  {
   "cell_type": "code",
   "execution_count": 2,
   "metadata": {},
   "outputs": [],
   "source": [
    "def add_student_with_id(name, student_id=332): \n",
    "    # note the =332\n",
    "    student = {'name': name, 'student_id': student_id}  \n",
    "    # here's another dictionary, these are very useful\n",
    "    students.append(student)\n"
   ]
  },
  {
   "cell_type": "markdown",
   "metadata": {},
   "source": [
    "We see that we have set student_id to a hardcoded value of 332.\n",
    "This way we don't need to supply our function call with a student_id\n",
    "lets see what that looks like :"
   ]
  },
  {
   "cell_type": "code",
   "execution_count": 3,
   "metadata": {},
   "outputs": [
    {
     "name": "stdout",
     "output_type": "stream",
     "text": [
      "[{'name': 'connor', 'student_id': 332}]\n"
     ]
    }
   ],
   "source": [
    "add_student_with_id('connor')\n",
    "print(students)"
   ]
  },
  {
   "cell_type": "markdown",
   "metadata": {},
   "source": [
    "If we run this we see that it works, even though our function looks like it wants a value for student_id, however we can also manually give it a value if we would like :"
   ]
  },
  {
   "cell_type": "code",
   "execution_count": 4,
   "metadata": {},
   "outputs": [
    {
     "name": "stdout",
     "output_type": "stream",
     "text": [
      "[{'name': 'connor', 'student_id': 332}, {'name': 'bill', 'student_id': 1}]\n"
     ]
    }
   ],
   "source": [
    "add_student_with_id('bill', 1)\n",
    "print(students)"
   ]
  },
  {
   "cell_type": "markdown",
   "metadata": {},
   "source": [
    "If we run this we see that the value of 332 gets overridden by the value we gave when we called the function. We can actually do some pretty nifty stuff with our print function with arguments try and figure this out. :"
   ]
  },
  {
   "cell_type": "code",
   "execution_count": 5,
   "metadata": {},
   "outputs": [
    {
     "name": "stdout",
     "output_type": "stream",
     "text": [
      "hello world 3 None something\n"
     ]
    }
   ],
   "source": [
    "print('hello', 'world', 3, None, 'something')"
   ]
  },
  {
   "cell_type": "markdown",
   "metadata": {},
   "source": [
    "This is because the print function uses 'variable' arguments,\n",
    "basically it means that the parameters can 'vary' and don't have a set limit.\n",
    "Lets dig into it. :\n"
   ]
  },
  {
   "cell_type": "code",
   "execution_count": 6,
   "metadata": {},
   "outputs": [
    {
     "name": "stdout",
     "output_type": "stream",
     "text": [
      "Jimmothy\n",
      "(None, 'Python is cool')\n"
     ]
    }
   ],
   "source": [
    "def variable_arguments(name, *args):  \n",
    "    # notice the asterisk\n",
    "    print(name)\n",
    "    print(args)  \n",
    "    # no asterisk here\n",
    "\n",
    "\n",
    "variable_arguments('Jimmothy', None, 'Python is cool')"
   ]
  },
  {
   "cell_type": "markdown",
   "metadata": {},
   "source": [
    "We see it captured our first argument and stored it in name, and printed it, then all of our other arguments get printed 2 cmd.\n",
    "Also notice that it placed the other arguments in a list, we can have as many arguments as we want now.\n",
    "\n",
    "Now lets get into keyword arguments, what if we want to specify what the argument was?\n",
    "in the last example we see that its just a big ole' list. We can use keyword arguments to convert it into a dictionary so we can sift through key value pairs where the keys are the names of the arguments. :\n",
    "\n"
   ]
  },
  {
   "cell_type": "code",
   "execution_count": 7,
   "metadata": {},
   "outputs": [
    {
     "name": "stdout",
     "output_type": "stream",
     "text": [
      "connor\n",
      "a funny dude person\n"
     ]
    }
   ],
   "source": [
    "def keyword_args(name, **kwargs):  # notice the double * and KWargs (key word args)\n",
    "    print(name)\n",
    "    print(kwargs['description'], kwargs['type'])\n",
    "\n",
    "keyword_args('connor', description='a funny dude', type='person')"
   ]
  },
  {
   "cell_type": "markdown",
   "metadata": {},
   "source": [
    "It picked up that those words were part of the function,\n",
    "It replaces the kwargs['something in here'] with what we give it.\n",
    "\n",
    "\n",
    "SIDE BAR:\n",
    "What if we want the user to input data...\n",
    "There's a built in function for that, its called 'input' :\n"
   ]
  },
  {
   "cell_type": "code",
   "execution_count": 8,
   "metadata": {},
   "outputs": [
    {
     "name": "stdout",
     "output_type": "stream",
     "text": [
      "Enter student ID: 20\n",
      "Enter student name: Justin\n"
     ]
    }
   ],
   "source": [
    "input_student_id = input('Enter student ID: ')\n",
    "input_student_name = input('Enter student name: ')"
   ]
  },
  {
   "cell_type": "markdown",
   "metadata": {},
   "source": [
    "These functions will print whats in the parenthesis, and when we press enter it will take the string that A USER enter through the console and store them in the variable to the left.\n",
    "\n",
    "So wait... that means we can use those variables in our functions!\n"
   ]
  },
  {
   "cell_type": "code",
   "execution_count": 9,
   "metadata": {},
   "outputs": [
    {
     "name": "stdout",
     "output_type": "stream",
     "text": [
      "[{'name': 'connor', 'student_id': 332}, {'name': 'bill', 'student_id': 1}, {'name': 'Justin', 'student_id': 20}]\n"
     ]
    }
   ],
   "source": [
    "add_student_with_id(input_student_name, int(input_student_id))\n",
    "print(students)"
   ]
  }
 ],
 "metadata": {
  "kernelspec": {
   "display_name": "Python 3",
   "language": "python",
   "name": "python3"
  },
  "language_info": {
   "codemirror_mode": {
    "name": "ipython",
    "version": 3
   },
   "file_extension": ".py",
   "mimetype": "text/x-python",
   "name": "python",
   "nbconvert_exporter": "python",
   "pygments_lexer": "ipython3",
   "version": "3.6.6"
  }
 },
 "nbformat": 4,
 "nbformat_minor": 2
}
