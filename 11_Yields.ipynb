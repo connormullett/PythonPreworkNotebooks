{
 "cells": [
  {
   "cell_type": "markdown",
   "metadata": {},
   "source": [
    "# Yeilds :\n",
    "\n",
    "To explain yield, lets use our code from our last lesson,\n",
    "we had something that looks similar to this.\n",
    "\n",
    "for student in f.readlines():\n",
    "\n",
    "But what does .readlines() do? well lets write our own function that does the same thing :"
   ]
  },
  {
   "cell_type": "code",
   "execution_count": 1,
   "metadata": {},
   "outputs": [
    {
     "name": "stdout",
     "output_type": "stream",
     "text": [
      "['Test_Student\\n']\n"
     ]
    }
   ],
   "source": [
    "students = []\n",
    "\n",
    "\n",
    "def read_students(f):  # <-  f is the file we pass in just like our readlines() function\n",
    "    for line in f:\n",
    "        yield line  # <- wow what is this thing, well lets call it and see what happens\n",
    "\n",
    "\n",
    "def read_file():\n",
    "    try:\n",
    "        f = open('10_Students.txt', 'r')\n",
    "        for student in read_students(f):  # <- look how we call our new function here\n",
    "            students.append(student)\n",
    "        f.close()\n",
    "    except Exception as e:\n",
    "        print(e)\n",
    "\n",
    "\n",
    "read_file()\n",
    "print(students)"
   ]
  },
  {
   "cell_type": "markdown",
   "metadata": {},
   "source": [
    "We see it does the exact same thing as our readlines() function that's built in granted readlines() does more, but it works nonetheless.\n",
    "\n",
    "So lets look at yield now, it is similar to 'return' but that returns one thing and goes back to the function it calls, yield can return multiple things that's because it allows us continue the method to completion, and return anything that fits our\n",
    "criteria, in this case its everything in our txt file."
   ]
  }
 ],
 "metadata": {
  "kernelspec": {
   "display_name": "Python 3",
   "language": "python",
   "name": "python3"
  },
  "language_info": {
   "codemirror_mode": {
    "name": "ipython",
    "version": 3
   },
   "file_extension": ".py",
   "mimetype": "text/x-python",
   "name": "python",
   "nbconvert_exporter": "python",
   "pygments_lexer": "ipython3",
   "version": "3.6.6"
  }
 },
 "nbformat": 4,
 "nbformat_minor": 2
}
